{
  "cells": [
    {
      "cell_type": "markdown",
      "metadata": {
        "id": "FPEHg1p2XOKB"
      },
      "source": [
        "# Recognizing hand-written digits\n",
        "\n",
        "This example shows how scikit-learn can be used to recognize images of\n",
        "hand-written digits, from 0-9.\n",
        "\n",
        "\n"
      ]
    },
    {
      "cell_type": "code",
      "execution_count": 728,
      "metadata": {
        "id": "Eru66-WIM6NY"
      },
      "outputs": [],
      "source": [
        "import numpy as np\n",
        "import matplotlib.pyplot as plt\n",
        "from sklearn.datasets import load_digits\n",
        "from sklearn.model_selection import train_test_split\n"
      ]
    },
    {
      "cell_type": "code",
      "execution_count": 729,
      "metadata": {
        "colab": {
          "base_uri": "https://localhost:8080/"
        },
        "id": "GXys0ZbYNomn",
        "outputId": "6e409d2f-2d96-4127-a12e-e3076fc4083b"
      },
      "outputs": [
        {
          "output_type": "execute_result",
          "data": {
            "text/plain": [
              "((1437, 64), (360, 64), (1437, 10), (360, 10))"
            ]
          },
          "metadata": {},
          "execution_count": 729
        }
      ],
      "source": [
        "dataset = load_digits()\n",
        "X = dataset.data\n",
        "Y = dataset.target\n",
        "Y = np.eye(10)[Y] # one hot\n",
        "\n",
        "X_train , X_test , Y_train , Y_test = train_test_split(X,Y,test_size=0.2)\n",
        "X_train.shape ,X_test.shape ,Y_train.shape ,Y_test.shape"
      ]
    },
    {
      "cell_type": "markdown",
      "metadata": {
        "id": "B7SMO4MJ_upb"
      },
      "source": [
        "\n",
        "###  one hot\n",
        "\n",
        "---\n",
        "In short, with the following codes, we want to determine the number of outputs that we are considering here, which one is the new number from 0 to 9, that is, we have 10 outputs, the first of which shows the percentage of probability that it is zero, and the second of which is the percentage. The probability is one to the tenth, which means how many percent is the probability that the new number is not a number, but these are all probabilities. You cannot compare with the real number to see if it is correctly recognized or not, that's why the real number used for train is a number. For example, 5, for this we need to make that value one hot so that it becomes the same size as our output so that we can calculate the accuracy and other parameters.\n",
        "\n"
      ]
    },
    {
      "cell_type": "code",
      "execution_count": 730,
      "metadata": {
        "colab": {
          "base_uri": "https://localhost:8080/"
        },
        "id": "ZzVLTbvA9uxs",
        "outputId": "c9e5529f-3bbe-4833-ad54-fba3a4869157"
      },
      "outputs": [
        {
          "output_type": "execute_result",
          "data": {
            "text/plain": [
              "array([[1., 0., 0., 0., 0., 0.],\n",
              "       [0., 1., 0., 0., 0., 0.],\n",
              "       [0., 0., 1., 0., 0., 0.],\n",
              "       [0., 0., 0., 1., 0., 0.],\n",
              "       [0., 0., 0., 0., 1., 0.],\n",
              "       [0., 0., 0., 0., 0., 1.]])"
            ]
          },
          "metadata": {},
          "execution_count": 730
        }
      ],
      "source": [
        "np.eye(6) #  هر عددی که هست رو یک میکند بقیه صفر\n"
      ]
    },
    {
      "cell_type": "markdown",
      "metadata": {
        "id": "Gg6DNaloGbhS"
      },
      "source": [
        "**sklearn.preprocessing.OneHotEncoder**"
      ]
    },
    {
      "cell_type": "code",
      "execution_count": 731,
      "metadata": {
        "colab": {
          "base_uri": "https://localhost:8080/"
        },
        "id": "aFw5E-OsOGlt",
        "outputId": "466d7bf6-d292-4397-e183-45b35d0179b9"
      },
      "outputs": [
        {
          "output_type": "execute_result",
          "data": {
            "text/plain": [
              "(1797, 64)"
            ]
          },
          "metadata": {},
          "execution_count": 731
        }
      ],
      "source": [
        "dataset.data.shape"
      ]
    },
    {
      "cell_type": "code",
      "execution_count": 732,
      "metadata": {
        "colab": {
          "base_uri": "https://localhost:8080/"
        },
        "id": "GzAs7NqAOLgY",
        "outputId": "62164b8a-cfdc-4dbb-b88d-99f9941afbd9"
      },
      "outputs": [
        {
          "output_type": "execute_result",
          "data": {
            "text/plain": [
              "(1797, 8, 8)"
            ]
          },
          "metadata": {},
          "execution_count": 732
        }
      ],
      "source": [
        "dataset.images.shape"
      ]
    },
    {
      "cell_type": "code",
      "execution_count": 733,
      "metadata": {
        "colab": {
          "base_uri": "https://localhost:8080/"
        },
        "id": "OZDa_S0FPGTn",
        "outputId": "31f0a73c-30ed-4fd2-d8d6-ce3f11eceff2"
      },
      "outputs": [
        {
          "output_type": "execute_result",
          "data": {
            "text/plain": [
              "(1797,)"
            ]
          },
          "metadata": {},
          "execution_count": 733
        }
      ],
      "source": [
        "dataset.target.shape"
      ]
    },
    {
      "cell_type": "code",
      "execution_count": 734,
      "metadata": {
        "colab": {
          "base_uri": "https://localhost:8080/"
        },
        "id": "4mpKtiuBPRsv",
        "outputId": "f63c2808-9708-4072-8ec6-93ac8f5411cd"
      },
      "outputs": [
        {
          "output_type": "stream",
          "name": "stdout",
          "text": [
            "[ 0.  0.  0.  1. 14. 13.  1.  0.  0.  0.  0.  1. 16. 16.  3.  0.  0.  5.\n",
            " 11. 15. 16. 16.  0.  0.  0.  4. 15. 16. 16. 15.  0.  0.  0.  0.  0.  8.\n",
            " 16.  7.  0.  0.  0.  0.  0. 10. 16.  3.  0.  0.  0.  0.  0.  8. 16.  6.\n",
            "  0.  0.  0.  0.  0.  2. 13. 15.  2.  0.]\n",
            "[[ 0.  0.  0.  1. 14. 13.  1.  0.]\n",
            " [ 0.  0.  0.  1. 16. 16.  3.  0.]\n",
            " [ 0.  5. 11. 15. 16. 16.  0.  0.]\n",
            " [ 0.  4. 15. 16. 16. 15.  0.  0.]\n",
            " [ 0.  0.  0.  8. 16.  7.  0.  0.]\n",
            " [ 0.  0.  0. 10. 16.  3.  0.  0.]\n",
            " [ 0.  0.  0.  8. 16.  6.  0.  0.]\n",
            " [ 0.  0.  0.  2. 13. 15.  2.  0.]]\n",
            "1\n"
          ]
        }
      ],
      "source": [
        "print(dataset.data[80])\n",
        "print(dataset.images[80])\n",
        "print(dataset.target[80])"
      ]
    },
    {
      "cell_type": "code",
      "execution_count": 735,
      "metadata": {
        "colab": {
          "base_uri": "https://localhost:8080/",
          "height": 448
        },
        "id": "fSSGXsBiQi7u",
        "outputId": "a79acaea-f255-40d5-d30f-604ef242cbd5"
      },
      "outputs": [
        {
          "output_type": "execute_result",
          "data": {
            "text/plain": [
              "<matplotlib.image.AxesImage at 0x7e943f86e140>"
            ]
          },
          "metadata": {},
          "execution_count": 735
        },
        {
          "output_type": "display_data",
          "data": {
            "text/plain": [
              "<Figure size 640x480 with 1 Axes>"
            ],
            "image/png": "[encoded data removed]"
          },
          "metadata": {}
        }
      ],
      "source": [
        "plt.imshow(dataset.images[80])"
      ]
    },
    {
      "cell_type": "code",
      "execution_count": 736,
      "metadata": {
        "id": "CSPkCdxWRqZw"
      },
      "outputs": [],
      "source": [
        "# Activation function\n",
        "def sigmoid(X):\n",
        "  return 1 / ( 1  + np.exp(-X))\n",
        "\n",
        "def softmax(X) :\n",
        "  return np.exp(X) / np.sum(np.exp(X))\n",
        "\n",
        "def root_mean_squired_error(Y_gt , Y_pred):\n",
        "  return np.sqrt(np.mean((Y_gt - Y_pred) ** 2))"
      ]
    },
    {
      "cell_type": "code",
      "execution_count": 737,
      "metadata": {
        "id": "k3CKDci2ZwPs"
      },
      "outputs": [],
      "source": [
        "epochs = 80\n",
        "lr = 0.001\n",
        "\n",
        "Dimension_Input = X_train.shape[1] # Dimension_Input = 64\n",
        "HiddenLayer1 = 128\n",
        "HiddenLayer2 = 32\n",
        "Dimension_Output = Y_train.shape[1] # Dimension_Output = len(np.unique(Y_train))"
      ]
    },
    {
      "cell_type": "code",
      "execution_count": 738,
      "metadata": {
        "id": "HDscnrL_896U"
      },
      "outputs": [],
      "source": [
        "W1 = np.random.randn(Dimension_Input , HiddenLayer1)\n",
        "W2 = np.random.randn(HiddenLayer1 , HiddenLayer2)\n",
        "W3 = np.random.randn(HiddenLayer2 , Dimension_Output)"
      ]
    },
    {
      "cell_type": "code",
      "execution_count": 739,
      "metadata": {
        "id": "FcsQwJnl8-qZ"
      },
      "outputs": [],
      "source": [
        "#  به ازای هر نرون در شبکه عصبی یک بایاس داریم\n",
        "bias1 = np.random.randn(HiddenLayer1)\n",
        "bias2 = np.random.randn(HiddenLayer2)\n",
        "bias3 = np.random.randn(Dimension_Output)\n"
      ]
    },
    {
      "cell_type": "code",
      "execution_count": 740,
      "metadata": {
        "colab": {
          "base_uri": "https://localhost:8080/"
        },
        "id": "ncj4jANDHLdr",
        "outputId": "8b240ba0-80e6-416f-cdb6-d4b72b504401"
      },
      "outputs": [
        {
          "output_type": "stream",
          "name": "stdout",
          "text": [
            "loss train: 0.323470160381671 ---------------------- acc train: 0.12038970076548365\n",
            "loss test: 0.29913132468828435 ------------------------ acc test: 0.225\n",
            "loss train: 0.2924043184148171 ---------------------- acc train: 0.27279053583855256\n",
            "loss test: 0.282214483248414 ------------------------ acc test: 0.35\n",
            "loss train: 0.27551889094507487 ---------------------- acc train: 0.4077940153096729\n",
            "loss test: 0.27098686298251207 ------------------------ acc test: 0.4305555555555556\n",
            "loss train: 0.2615474072728445 ---------------------- acc train: 0.4892136395267919\n",
            "loss test: 0.26045622989658246 ------------------------ acc test: 0.49166666666666664\n",
            "loss train: 0.24879533944002447 ---------------------- acc train: 0.5601948503827419\n",
            "loss test: 0.25092915255321174 ------------------------ acc test: 0.5555555555555556\n",
            "loss train: 0.23703745745298185 ---------------------- acc train: 0.6096033402922756\n",
            "loss test: 0.24073110510072637 ------------------------ acc test: 0.5916666666666667\n",
            "loss train: 0.2253599652926687 ---------------------- acc train: 0.662491301322199\n",
            "loss test: 0.23086287346312115 ------------------------ acc test: 0.6388888888888888\n",
            "loss train: 0.21422367716536822 ---------------------- acc train: 0.709116214335421\n",
            "loss test: 0.22316230687384875 ------------------------ acc test: 0.6638888888888889\n",
            "loss train: 0.20473213545149932 ---------------------- acc train: 0.7473903966597077\n",
            "loss test: 0.21634335358930953 ------------------------ acc test: 0.6861111111111111\n",
            "loss train: 0.1961463125990992 ---------------------- acc train: 0.7717466945024356\n",
            "loss test: 0.2096343635324753 ------------------------ acc test: 0.7138888888888889\n",
            "loss train: 0.18811288192003978 ---------------------- acc train: 0.7961029923451636\n",
            "loss test: 0.20338070779301176 ------------------------ acc test: 0.725\n",
            "loss train: 0.18080656513059098 ---------------------- acc train: 0.8148921363952679\n",
            "loss test: 0.19739609857756016 ------------------------ acc test: 0.7444444444444445\n",
            "loss train: 0.17384399723222185 ---------------------- acc train: 0.8336812804453723\n",
            "loss test: 0.19191104991401556 ------------------------ acc test: 0.7472222222222222\n",
            "loss train: 0.1671604493490833 ---------------------- acc train: 0.8420320111343076\n",
            "loss test: 0.18734741241332278 ------------------------ acc test: 0.7555555555555555\n",
            "loss train: 0.16106591219646763 ---------------------- acc train: 0.8559498956158664\n",
            "loss test: 0.18366829074325697 ------------------------ acc test: 0.7638888888888888\n",
            "loss train: 0.155314316727263 ---------------------- acc train: 0.8691718858733473\n",
            "loss test: 0.17979090844530257 ------------------------ acc test: 0.7777777777777778\n",
            "loss train: 0.14975498440175364 ---------------------- acc train: 0.8803061934585943\n",
            "loss test: 0.17608026777874755 ------------------------ acc test: 0.7944444444444444\n",
            "loss train: 0.1446747827051996 ---------------------- acc train: 0.8886569241475296\n",
            "loss test: 0.17312549402037375 ------------------------ acc test: 0.8\n",
            "loss train: 0.139948810775801 ---------------------- acc train: 0.894919972164231\n",
            "loss test: 0.1702567244958329 ------------------------ acc test: 0.8111111111111111\n",
            "loss train: 0.1356560653738995 ---------------------- acc train: 0.9025748086290883\n",
            "loss test: 0.16766613996603055 ------------------------ acc test: 0.8138888888888889\n",
            "loss train: 0.13176854694806353 ---------------------- acc train: 0.9109255393180237\n",
            "loss test: 0.16530066958615236 ------------------------ acc test: 0.8138888888888889\n",
            "loss train: 0.12817773805304805 ---------------------- acc train: 0.9171885873347251\n",
            "loss test: 0.1631912094371739 ------------------------ acc test: 0.8138888888888889\n",
            "loss train: 0.12484750261528775 ---------------------- acc train: 0.9206680584551148\n",
            "loss test: 0.16137115251319717 ------------------------ acc test: 0.8166666666666667\n",
            "loss train: 0.12174168076750669 ---------------------- acc train: 0.9269311064718163\n",
            "loss test: 0.15974729483034192 ------------------------ acc test: 0.8138888888888889\n",
            "loss train: 0.1188744412688741 ---------------------- acc train: 0.9311064718162839\n",
            "loss test: 0.1581992890897511 ------------------------ acc test: 0.8138888888888889\n",
            "loss train: 0.11625649262302139 ---------------------- acc train: 0.9359777313848295\n",
            "loss test: 0.15667631497468468 ------------------------ acc test: 0.8166666666666667\n",
            "loss train: 0.11382061322976046 ---------------------- acc train: 0.9366736256089074\n",
            "loss test: 0.15520543624237504 ------------------------ acc test: 0.8166666666666667\n",
            "loss train: 0.11150083896496785 ---------------------- acc train: 0.9401530967292971\n",
            "loss test: 0.15375964755194338 ------------------------ acc test: 0.825\n",
            "loss train: 0.10934238027382245 ---------------------- acc train: 0.942936673625609\n",
            "loss test: 0.1522612237514498 ------------------------ acc test: 0.8277777777777777\n",
            "loss train: 0.1071868052505368 ---------------------- acc train: 0.9471120389700766\n",
            "loss test: 0.15081894125543682 ------------------------ acc test: 0.8277777777777777\n",
            "loss train: 0.10512924073198196 ---------------------- acc train: 0.9491997216423104\n",
            "loss test: 0.14955904752922164 ------------------------ acc test: 0.8333333333333334\n",
            "loss train: 0.10318286423626283 ---------------------- acc train: 0.9498956158663883\n",
            "loss test: 0.14831445297475204 ------------------------ acc test: 0.8333333333333334\n",
            "loss train: 0.10137215860125315 ---------------------- acc train: 0.9526791927627001\n",
            "loss test: 0.1471194212413016 ------------------------ acc test: 0.8361111111111111\n",
            "loss train: 0.09961828840253732 ---------------------- acc train: 0.954070981210856\n",
            "loss test: 0.14597175101093776 ------------------------ acc test: 0.8388888888888889\n",
            "loss train: 0.09795425979559752 ---------------------- acc train: 0.9547668754349339\n",
            "loss test: 0.1448923962673835 ------------------------ acc test: 0.8416666666666667\n",
            "loss train: 0.096326080554518 ---------------------- acc train: 0.9561586638830898\n",
            "loss test: 0.14384712184987103 ------------------------ acc test: 0.8444444444444444\n",
            "loss train: 0.09472967501069193 ---------------------- acc train: 0.9596381350034795\n",
            "loss test: 0.14280157483777228 ------------------------ acc test: 0.8472222222222222\n",
            "loss train: 0.09317183402645045 ---------------------- acc train: 0.9624217118997912\n",
            "loss test: 0.1417686883983915 ------------------------ acc test: 0.8472222222222222\n",
            "loss train: 0.09159394268354794 ---------------------- acc train: 0.9638135003479471\n",
            "loss test: 0.14084212751858846 ------------------------ acc test: 0.85\n",
            "loss train: 0.08997942940835339 ---------------------- acc train: 0.964509394572025\n",
            "loss test: 0.140027310067764 ------------------------ acc test: 0.8527777777777777\n",
            "loss train: 0.08841744458709132 ---------------------- acc train: 0.965205288796103\n",
            "loss test: 0.13909557391628588 ------------------------ acc test: 0.8583333333333333\n",
            "loss train: 0.08686115861739004 ---------------------- acc train: 0.9665970772442589\n",
            "loss test: 0.13814462151019347 ------------------------ acc test: 0.8666666666666667\n",
            "loss train: 0.08534332042456493 ---------------------- acc train: 0.9686847599164927\n",
            "loss test: 0.13719500833386716 ------------------------ acc test: 0.8694444444444445\n",
            "loss train: 0.08392004010706304 ---------------------- acc train: 0.9693806541405706\n",
            "loss test: 0.13624130722865158 ------------------------ acc test: 0.8722222222222222\n",
            "loss train: 0.0825879624319391 ---------------------- acc train: 0.9693806541405706\n",
            "loss test: 0.13528827695639548 ------------------------ acc test: 0.875\n",
            "loss train: 0.08131215571192899 ---------------------- acc train: 0.9700765483646486\n",
            "loss test: 0.13434434061337713 ------------------------ acc test: 0.8777777777777778\n",
            "loss train: 0.0800598753951825 ---------------------- acc train: 0.9700765483646486\n",
            "loss test: 0.13341303687423636 ------------------------ acc test: 0.8777777777777778\n",
            "loss train: 0.07880468021810133 ---------------------- acc train: 0.9700765483646486\n",
            "loss test: 0.13250637301975646 ------------------------ acc test: 0.8777777777777778\n",
            "loss train: 0.07755258475034627 ---------------------- acc train: 0.9714683368128044\n",
            "loss test: 0.13163367430333212 ------------------------ acc test: 0.8833333333333333\n",
            "loss train: 0.07631377530619421 ---------------------- acc train: 0.9735560194850382\n",
            "loss test: 0.13079790153136936 ------------------------ acc test: 0.8833333333333333\n",
            "loss train: 0.07509528383365742 ---------------------- acc train: 0.9749478079331941\n",
            "loss test: 0.12999571904410998 ------------------------ acc test: 0.8861111111111111\n",
            "loss train: 0.07391386601105675 ---------------------- acc train: 0.97633959638135\n",
            "loss test: 0.12921834578343322 ------------------------ acc test: 0.8888888888888888\n",
            "loss train: 0.07276709893822453 ---------------------- acc train: 0.977731384829506\n",
            "loss test: 0.12845735132892744 ------------------------ acc test: 0.8916666666666667\n",
            "loss train: 0.07164210734036111 ---------------------- acc train: 0.9805149617258176\n",
            "loss test: 0.12770932356552933 ------------------------ acc test: 0.8944444444444445\n",
            "loss train: 0.0704958872835477 ---------------------- acc train: 0.9812108559498957\n",
            "loss test: 0.1269855837791187 ------------------------ acc test: 0.8944444444444445\n",
            "loss train: 0.06939761812777193 ---------------------- acc train: 0.9819067501739736\n",
            "loss test: 0.12627782139906588 ------------------------ acc test: 0.8972222222222223\n",
            "loss train: 0.06839515994212753 ---------------------- acc train: 0.9819067501739736\n",
            "loss test: 0.12559878715038064 ------------------------ acc test: 0.8972222222222223\n",
            "loss train: 0.06741917950267884 ---------------------- acc train: 0.9819067501739736\n",
            "loss test: 0.12494588659808896 ------------------------ acc test: 0.8972222222222223\n",
            "loss train: 0.06646518433282822 ---------------------- acc train: 0.9819067501739736\n",
            "loss test: 0.12431669124599024 ------------------------ acc test: 0.9\n",
            "loss train: 0.06552957690088919 ---------------------- acc train: 0.9832985386221295\n",
            "loss test: 0.12370865786155091 ------------------------ acc test: 0.9\n",
            "loss train: 0.06459930494927998 ---------------------- acc train: 0.9832985386221295\n",
            "loss test: 0.12311918970090227 ------------------------ acc test: 0.9\n",
            "loss train: 0.06366024139120051 ---------------------- acc train: 0.9839944328462074\n",
            "loss test: 0.12255020135894097 ------------------------ acc test: 0.9027777777777778\n",
            "loss train: 0.06272048468366449 ---------------------- acc train: 0.9839944328462074\n",
            "loss test: 0.12202285663550677 ------------------------ acc test: 0.9027777777777778\n",
            "loss train: 0.06179868895734435 ---------------------- acc train: 0.9839944328462074\n",
            "loss test: 0.12154244372349474 ------------------------ acc test: 0.9055555555555556\n",
            "loss train: 0.060910105231774 ---------------------- acc train: 0.9846903270702854\n",
            "loss test: 0.12108972168571289 ------------------------ acc test: 0.9055555555555556\n",
            "loss train: 0.060036366915243805 ---------------------- acc train: 0.9846903270702854\n",
            "loss test: 0.12067233680384312 ------------------------ acc test: 0.9055555555555556\n",
            "loss train: 0.059197271674018476 ---------------------- acc train: 0.9860821155184412\n",
            "loss test: 0.1203260145781453 ------------------------ acc test: 0.9055555555555556\n",
            "loss train: 0.05842735861136307 ---------------------- acc train: 0.9860821155184412\n",
            "loss test: 0.11992913520783337 ------------------------ acc test: 0.9055555555555556\n",
            "loss train: 0.05772297248253663 ---------------------- acc train: 0.988169798190675\n",
            "loss test: 0.11951061841126419 ------------------------ acc test: 0.9055555555555556\n",
            "loss train: 0.05704535399228558 ---------------------- acc train: 0.988169798190675\n",
            "loss test: 0.11909101152253086 ------------------------ acc test: 0.9055555555555556\n",
            "loss train: 0.05638730507870312 ---------------------- acc train: 0.988865692414753\n",
            "loss test: 0.11867882245042427 ------------------------ acc test: 0.9055555555555556\n",
            "loss train: 0.055745906164584386 ---------------------- acc train: 0.988865692414753\n",
            "loss test: 0.11827842791797237 ------------------------ acc test: 0.9083333333333333\n",
            "loss train: 0.05511933279905326 ---------------------- acc train: 0.9895615866388309\n",
            "loss test: 0.11789241365866238 ------------------------ acc test: 0.9083333333333333\n",
            "loss train: 0.054506463659651144 ---------------------- acc train: 0.9895615866388309\n",
            "loss test: 0.11752231482452466 ------------------------ acc test: 0.9083333333333333\n",
            "loss train: 0.05390692632510688 ---------------------- acc train: 0.9895615866388309\n",
            "loss test: 0.11716853176169571 ------------------------ acc test: 0.9111111111111111\n",
            "loss train: 0.05332099206478102 ---------------------- acc train: 0.9895615866388309\n",
            "loss test: 0.11683008006029683 ------------------------ acc test: 0.9111111111111111\n",
            "loss train: 0.052749373506885716 ---------------------- acc train: 0.9902574808629089\n",
            "loss test: 0.116504816520382 ------------------------ acc test: 0.9111111111111111\n",
            "loss train: 0.052192964172365866 ---------------------- acc train: 0.9902574808629089\n",
            "loss test: 0.11619020290729859 ------------------------ acc test: 0.9138888888888889\n",
            "loss train: 0.05165237255205656 ---------------------- acc train: 0.9902574808629089\n",
            "loss test: 0.11588411150846695 ------------------------ acc test: 0.9138888888888889\n",
            "loss train: 0.051127439439500724 ---------------------- acc train: 0.9902574808629089\n",
            "loss test: 0.11558511560540359 ------------------------ acc test: 0.9166666666666666\n",
            "completed!\n"
          ]
        }
      ],
      "source": [
        "for epoch in range(epochs):\n",
        "\n",
        "    # train\n",
        "\n",
        "    Y_pred_train = []\n",
        "    for x, y in zip(X_train, Y_train):\n",
        "\n",
        "        # forward\n",
        "        x = x.reshape(-1, 1)\n",
        "\n",
        "        # layer 1\n",
        "        net1 = x.T @ W1 + bias1\n",
        "        out1 = sigmoid(net1)\n",
        "\n",
        "        # layer 2\n",
        "        net2 = out1 @ W2 + bias2\n",
        "        out2 = sigmoid(net2)\n",
        "\n",
        "        # layer 3\n",
        "        net3 = out2 @ W3 + bias3\n",
        "        out3 = softmax(net3)\n",
        "\n",
        "        y_pred = out3\n",
        "        Y_pred_train.append(y_pred.T)\n",
        "\n",
        "        # back propagation\n",
        "\n",
        "        # layer 3\n",
        "        error = -2 * (y - y_pred)\n",
        "        Gradient_W3 = out2.T @ error\n",
        "        Gradient_bias3 = error\n",
        "\n",
        "        # layer 2\n",
        "        error = error @ W3.T * out2 * (1 - out2)\n",
        "        Gradient_W2 = out1.T @ error\n",
        "        Gradient_bias2 = error\n",
        "\n",
        "        # layer 1\n",
        "        error = error @ W2.T * out1 * (1 - out1)\n",
        "        Gradient_W1 = x @ error\n",
        "        Gradient_bias1 = error\n",
        "\n",
        "        # update\n",
        "\n",
        "        # layer 1\n",
        "        W1 = W1 - lr * Gradient_W1\n",
        "        bias1 = bias1 - lr * Gradient_bias1\n",
        "\n",
        "        # layer 2\n",
        "        W2 = W2 - lr * Gradient_W2\n",
        "        bias2 = bias2 - lr * Gradient_bias2\n",
        "\n",
        "        # layer 3\n",
        "        W3 = W3 - lr * Gradient_W3\n",
        "        bias3 = bias3 - lr * Gradient_bias3\n",
        "\n",
        "    Y_pred_train = np.array(Y_pred_train).reshape(-1, 10)\n",
        "    loss_train = root_mean_squired_error(Y_pred_train, Y_train)\n",
        "    acc_train = np.mean(np.argmax(Y_pred_train, axis=1) == np.argmax(Y_train, axis=1))\n",
        "\n",
        "    # test\n",
        "\n",
        "    Y_pred_test = []\n",
        "    for x, y in zip(X_test, Y_test):\n",
        "\n",
        "        # forward\n",
        "        x = x.reshape(-1, 1)\n",
        "\n",
        "        # layer 1\n",
        "        net1 = x.T @ W1 + bias1\n",
        "        out1 = sigmoid(net1)\n",
        "\n",
        "        # layer 2\n",
        "        net2 = out1 @ W2 + bias2\n",
        "        out2 = sigmoid(net2)\n",
        "\n",
        "        # layer 3\n",
        "        net3 = out2 @ W3 + bias3\n",
        "        out3 = softmax(net3)\n",
        "\n",
        "        y_pred = out3\n",
        "        Y_pred_test.append(y_pred.T)\n",
        "\n",
        "    Y_pred_test = np.array(Y_pred_test).reshape(-1, 10)\n",
        "    loss_test = root_mean_squired_error(Y_pred_test, Y_test)\n",
        "    acc_test = np.mean(np.argmax(Y_pred_test, axis=1) == np.argmax(Y_test, axis=1))\n",
        "\n",
        "    print('loss train:', loss_train,\"----------------------\" ,'acc train:', acc_train)\n",
        "    print('loss test:', loss_test,\"------------------------\" ,'acc test:', acc_test)\n",
        "\n",
        "print('completed!')"
      ]
    },
    {
      "cell_type": "code",
      "execution_count": 745,
      "metadata": {
        "colab": {
          "base_uri": "https://localhost:8080/"
        },
        "id": "Xk1baoynWG0O",
        "outputId": "343bcfab-e721-48db-ddb8-cfa7b6841d93"
      },
      "outputs": [
        {
          "output_type": "stream",
          "name": "stdout",
          "text": [
            "0\n"
          ]
        }
      ],
      "source": [
        "import cv2\n",
        "\n",
        "image = cv2.imread(\"/content/input/0.jpg\")\n",
        "image = cv2.cvtColor(image,cv2.COLOR_BGR2GRAY)\n",
        "image = image.reshape(64,1)\n",
        "x = image\n",
        "\n",
        "# forward\n",
        "\n",
        "# layer 1\n",
        "net1 = x.T @ W1 + bias1\n",
        "out1 = sigmoid(net1)\n",
        "\n",
        "# layer 2\n",
        "net2 = out1 @ W2 + bias2\n",
        "out2 = sigmoid(net2)\n",
        "\n",
        "# layer 3\n",
        "net3 = out2 @ W3 + bias3\n",
        "out3 = softmax(net3)\n",
        "\n",
        "y_pred = out3\n",
        "print(np.argmax(y_pred))\n"
      ]
    },
    {
      "cell_type": "code",
      "source": [],
      "metadata": {
        "id": "cBX7CES9-Y7Q"
      },
      "execution_count": 741,
      "outputs": []
    },
    {
      "cell_type": "code",
      "source": [
        "for i in range(10):\n",
        "    image = cv2.imread(f\"input/{i}.jpg\")\n",
        "    image = cv2.cvtColor(image , cv2.COLOR_BGR2GRAY)\n",
        "\n",
        "    if i==0:\n",
        "        image1=image\n",
        "\n",
        "    image = image.reshape(1,64)\n",
        "\n",
        "    x= image\n",
        "    # forward\n",
        "\n",
        "    # layer 1\n",
        "\n",
        "    out1 = sigmoid(x @ W1 + bias1)\n",
        "\n",
        "    # layer 2\n",
        "    net2 = out1 @ W2 + bias2\n",
        "    out2 = sigmoid(net2)\n",
        "\n",
        "    # layer 3\n",
        "    net3 = out2 @ W3 + bias3\n",
        "    out3 = softmax(net3)\n",
        "\n",
        "    y_pred = out3\n",
        "    # print(f\"result: {y_pred}\")\n",
        "    print(f\"True number is: {i}\")"
      ],
      "metadata": {
        "colab": {
          "base_uri": "https://localhost:8080/"
        },
        "id": "QqE6vS_0-ZfM",
        "outputId": "cd62d962-4b81-4345-af19-a641bb0343da"
      },
      "execution_count": 744,
      "outputs": [
        {
          "output_type": "stream",
          "name": "stdout",
          "text": [
            "True number is: 0\n",
            "True number is: 1\n",
            "True number is: 2\n",
            "True number is: 3\n",
            "True number is: 4\n",
            "True number is: 5\n",
            "True number is: 6\n",
            "True number is: 7\n",
            "True number is: 8\n",
            "True number is: 9\n"
          ]
        }
      ]
    }
  ],
  "metadata": {
    "colab": {
      "provenance": []
    },
    "kernelspec": {
      "display_name": "Python 3",
      "name": "python3"
    },
    "language_info": {
      "name": "python"
    }
  },
  "nbformat": 4,
  "nbformat_minor": 0
}